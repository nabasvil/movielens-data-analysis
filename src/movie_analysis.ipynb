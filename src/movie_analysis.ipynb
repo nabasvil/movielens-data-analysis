{
 "cells": [
  {
   "cell_type": "markdown",
   "id": "96312289",
   "metadata": {},
   "source": [
    "# MovieLens Data Analysis\n",
    "Bu notebook, MovieLens veri setiyle temel analizler ve görselleştirmeler içerir."
   ]
  },
  {
   "cell_type": "code",
   "execution_count": null,
   "id": "bb7347e6",
   "metadata": {},
   "outputs": [],
   "source": [
    "import pandas as pd\n",
    "import matplotlib.pyplot as plt\n",
    "import seaborn as sns\n",
    "\n",
    "# Dosya yolları\n",
    "movies = pd.read_csv('../data/movies.csv')\n",
    "links = pd.read_csv('../data/links.csv')\n",
    "# ratings ve tags dosyaları büyük olduğu için örneklem alınabilir\n",
    "ratings = pd.read_csv('../data/ratings.csv', nrows=100000)\n",
    "tags = pd.read_csv('../data/tags.csv', nrows=100000)\n",
    "\n",
    "movies.head()"
   ]
  },
  {
   "cell_type": "markdown",
   "id": "b6c36d7d",
   "metadata": {},
   "source": [
    "## En Popüler Türler"
   ]
  },
  {
   "cell_type": "code",
   "execution_count": null,
   "id": "4195c89e",
   "metadata": {},
   "outputs": [],
   "source": [
    "# Türleri ayır\n",
    "from collections import Counter\n",
    "genre_list = movies['genres'].str.split('|').sum()\n",
    "genre_counts = Counter(genre_list)\n",
    "\n",
    "plt.figure(figsize=(10,5))\n",
    "sns.barplot(x=list(genre_counts.keys()), y=list(genre_counts.values()))\n",
    "plt.title('En Popüler Film Türleri')\n",
    "plt.ylabel('Film Sayısı')\n",
    "plt.xlabel('Tür')\n",
    "plt.xticks(rotation=45)\n",
    "plt.tight_layout()\n",
    "plt.show()"
   ]
  },
  {
   "cell_type": "markdown",
   "id": "9d876f89",
   "metadata": {},
   "source": [
    "## Puan Dağılımı"
   ]
  },
  {
   "cell_type": "code",
   "execution_count": null,
   "id": "8bfcfb13",
   "metadata": {},
   "outputs": [],
   "source": [
    "plt.figure(figsize=(8,4))\n",
    "sns.histplot(ratings['rating'], bins=20, kde=True)\n",
    "plt.title('Puan Dağılımı')\n",
    "plt.xlabel('Puan')\n",
    "plt.ylabel('Frekans')\n",
    "plt.show()"
   ]
  },
  {
   "cell_type": "markdown",
   "id": "5de1b2e7",
   "metadata": {},
   "source": [
    "## En Çok Oylanan Filmler"
   ]
  },
  {
   "cell_type": "code",
   "execution_count": null,
   "id": "755e4763",
   "metadata": {},
   "outputs": [],
   "source": [
    "top_movies = ratings.groupby('movieId').size().sort_values(ascending=False).head(10)\n",
    "top_movies = top_movies.reset_index().merge(movies[['movieId','title']], on='movieId')\n",
    "plt.figure(figsize=(10,5))\n",
    "sns.barplot(x='title', y=0, data=top_movies)\n",
    "plt.title('En Çok Oylanan 10 Film')\n",
    "plt.ylabel('Oy Sayısı')\n",
    "plt.xlabel('Film')\n",
    "plt.xticks(rotation=45, ha='right')\n",
    "plt.tight_layout()\n",
    "plt.show()"
   ]
  }
 ],
 "metadata": {
  "language_info": {
   "name": "python"
  }
 },
 "nbformat": 4,
 "nbformat_minor": 5
}
